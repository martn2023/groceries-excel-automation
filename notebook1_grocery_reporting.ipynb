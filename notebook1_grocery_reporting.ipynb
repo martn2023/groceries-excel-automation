{
 "cells": [
  {
   "cell_type": "markdown",
   "id": "8de8035c-4b44-4b7d-b0b2-65afe5ccf631",
   "metadata": {},
   "source": [
    "# OVERVIEW\n"
   ]
  },
  {
   "cell_type": "markdown",
   "id": "20e570b0-b746-41ca-b40d-67ca999a22e2",
   "metadata": {},
   "source": []
  },
  {
   "cell_type": "markdown",
   "id": "d6f463fd-fb26-4076-8628-6e61837c9dce",
   "metadata": {},
   "source": []
  },
  {
   "cell_type": "markdown",
   "id": "9fdc8ac8-2e99-401c-9e7f-880ef247205d",
   "metadata": {},
   "source": []
  },
  {
   "cell_type": "markdown",
   "id": "b7f04136-8656-4e59-895d-ceed4b8a4805",
   "metadata": {},
   "source": []
  },
  {
   "cell_type": "markdown",
   "id": "d737b94d-289d-4ac3-b06e-8b7a32a40bd8",
   "metadata": {},
   "source": []
  },
  {
   "cell_type": "markdown",
   "id": "adbde868-0877-4d72-9f94-b0b636551460",
   "metadata": {},
   "source": []
  }
 ],
 "metadata": {
  "kernelspec": {
   "display_name": "Python 3 (ipykernel)",
   "language": "python",
   "name": "python3"
  },
  "language_info": {
   "codemirror_mode": {
    "name": "ipython",
    "version": 3
   },
   "file_extension": ".py",
   "mimetype": "text/x-python",
   "name": "python",
   "nbconvert_exporter": "python",
   "pygments_lexer": "ipython3",
   "version": "3.12.0"
  }
 },
 "nbformat": 4,
 "nbformat_minor": 5
}
